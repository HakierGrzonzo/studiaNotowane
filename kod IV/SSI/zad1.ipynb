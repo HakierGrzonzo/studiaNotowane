{
 "cells": [
  {
   "cell_type": "code",
   "execution_count": 21,
   "id": "b3f5ad1c",
   "metadata": {},
   "outputs": [],
   "source": [
    "import pandas\n",
    "df = pandas.read_csv('/home/hakiergrzonzo/Downloads/iris.csv')"
   ]
  },
  {
   "cell_type": "code",
   "execution_count": null,
   "id": "b7a02d0c",
   "metadata": {
    "scrolled": true
   },
   "outputs": [],
   "source": []
  },
  {
   "cell_type": "code",
   "execution_count": null,
   "id": "ed2290b6",
   "metadata": {},
   "outputs": [],
   "source": []
  },
  {
   "cell_type": "code",
   "execution_count": 43,
   "id": "635e165a",
   "metadata": {},
   "outputs": [],
   "source": [
    "import random\n",
    "class ProcessingData:\n",
    "    @staticmethod\n",
    "    def shuffle(data):\n",
    "        for i in reversed(range(len(data))):\n",
    "            j = random.randint(0, i)\n",
    "            data.iloc[i], data.iloc[j] = data.iloc[j], data.iloc[i]\n",
    "        return data\n",
    "    \n",
    "    @staticmethod\n",
    "    def split(data, fraction):\n",
    "        index = int(len(data) * fraction)\n",
    "        return data[:index], data[index:]\n",
    "\n",
    "    @staticmethod\n",
    "    def normalize(data):\n",
    "        values = data.select_dtypes(exclude=[\"object\"])\n",
    "        for col in values.columns.tolist():\n",
    "            d = data.loc[:,col]\n",
    "            d_max = d.max()\n",
    "            d_min = d.min()\n",
    "            for i in range(len(data)):\n",
    "                data.at[i, col] = (data.at[i, col] - d_min) / (d_max - d_min)\n",
    "        return data"
   ]
  },
  {
   "cell_type": "code",
   "execution_count": 44,
   "id": "4db8ffa5",
   "metadata": {},
   "outputs": [
    {
     "name": "stdout",
     "output_type": "stream",
     "text": [
      "     sepal.length  sepal.width  petal.length  petal.width     variety\n",
      "0        0.805556     0.500000      0.847458     0.708333   Virginica\n",
      "1        0.527778     0.375000      0.559322     0.500000  Versicolor\n",
      "2        0.250000     0.291667      0.491525     0.541667  Versicolor\n",
      "3        0.416667     0.291667      0.694915     0.750000   Virginica\n",
      "4        0.222222     0.583333      0.084746     0.041667      Setosa\n",
      "..            ...          ...           ...          ...         ...\n",
      "145      0.444444     0.500000      0.644068     0.708333  Versicolor\n",
      "146      0.166667     0.666667      0.067797     0.000000      Setosa\n",
      "147      0.583333     0.291667      0.728814     0.750000   Virginica\n",
      "148      0.166667     0.208333      0.593220     0.666667   Virginica\n",
      "149      0.388889     0.333333      0.593220     0.500000  Versicolor\n",
      "\n",
      "[150 rows x 5 columns]\n"
     ]
    }
   ],
   "source": [
    "print(ProcessingData.normalize(ProcessingData.shuffle(df)))"
   ]
  },
  {
   "cell_type": "code",
   "execution_count": null,
   "id": "5b94d9d5",
   "metadata": {},
   "outputs": [],
   "source": []
  }
 ],
 "metadata": {
  "kernelspec": {
   "display_name": "Python 3",
   "language": "python",
   "name": "python3"
  },
  "language_info": {
   "codemirror_mode": {
    "name": "ipython",
    "version": 3
   },
   "file_extension": ".py",
   "mimetype": "text/x-python",
   "name": "python",
   "nbconvert_exporter": "python",
   "pygments_lexer": "ipython3",
   "version": "3.10.4"
  }
 },
 "nbformat": 4,
 "nbformat_minor": 5
}
